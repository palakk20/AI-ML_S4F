{
 "cells": [
  {
   "cell_type": "markdown",
   "id": "f9a6c9ea-efd6-46ce-bedb-fd0581e4ec11",
   "metadata": {},
   "source": [
    "##**int: 0, 1, 3....\n",
    "float: 34.5, 25.236\n",
    "bool: True or False\n",
    "Str: X = \"Welcome to S4F Training\" - object\n",
    "complex: 3 + 4j**"
   ]
  },
  {
   "cell_type": "code",
   "execution_count": 1,
   "id": "cbd94a5f-fedb-4318-b682-83a1cf2f6a54",
   "metadata": {},
   "outputs": [
    {
     "data": {
      "text/plain": [
       "['India', 1947, 'Delhi', 200]"
      ]
     },
     "execution_count": 1,
     "metadata": {},
     "output_type": "execute_result"
    }
   ],
   "source": [
    "x = [\"India\", 1947, \"Delhi\", 200]\n",
    "x"
   ]
  },
  {
   "cell_type": "code",
   "execution_count": 2,
   "id": "fb46e0a7-ad36-48a5-9612-8b0d40471c0a",
   "metadata": {
    "scrolled": true
   },
   "outputs": [
    {
     "data": {
      "text/plain": [
       "['__add__',\n",
       " '__class__',\n",
       " '__class_getitem__',\n",
       " '__contains__',\n",
       " '__delattr__',\n",
       " '__delitem__',\n",
       " '__dir__',\n",
       " '__doc__',\n",
       " '__eq__',\n",
       " '__format__',\n",
       " '__ge__',\n",
       " '__getattribute__',\n",
       " '__getitem__',\n",
       " '__getstate__',\n",
       " '__gt__',\n",
       " '__hash__',\n",
       " '__iadd__',\n",
       " '__imul__',\n",
       " '__init__',\n",
       " '__init_subclass__',\n",
       " '__iter__',\n",
       " '__le__',\n",
       " '__len__',\n",
       " '__lt__',\n",
       " '__mul__',\n",
       " '__ne__',\n",
       " '__new__',\n",
       " '__reduce__',\n",
       " '__reduce_ex__',\n",
       " '__repr__',\n",
       " '__reversed__',\n",
       " '__rmul__',\n",
       " '__setattr__',\n",
       " '__setitem__',\n",
       " '__sizeof__',\n",
       " '__str__',\n",
       " '__subclasshook__',\n",
       " 'append',\n",
       " 'clear',\n",
       " 'copy',\n",
       " 'count',\n",
       " 'extend',\n",
       " 'index',\n",
       " 'insert',\n",
       " 'pop',\n",
       " 'remove',\n",
       " 'reverse',\n",
       " 'sort']"
      ]
     },
     "execution_count": 2,
     "metadata": {},
     "output_type": "execute_result"
    }
   ],
   "source": [
    "dir(list)"
   ]
  },
  {
   "cell_type": "code",
   "execution_count": 3,
   "id": "afa83ac8-b28e-4ee3-8484-f0413423b84e",
   "metadata": {},
   "outputs": [
    {
     "data": {
      "text/plain": [
       "['India', 1947, 'Delhi', 200, 'Karnataka']"
      ]
     },
     "execution_count": 3,
     "metadata": {},
     "output_type": "execute_result"
    }
   ],
   "source": [
    "x.append(\"Karnataka\")\n",
    "x"
   ]
  },
  {
   "cell_type": "code",
   "execution_count": 4,
   "id": "31be11ab-f383-46ab-bc6f-9443802da04f",
   "metadata": {},
   "outputs": [
    {
     "data": {
      "text/plain": [
       "['Independence', 'India', 1947, 'Delhi', 200, 'Karnataka']"
      ]
     },
     "execution_count": 4,
     "metadata": {},
     "output_type": "execute_result"
    }
   ],
   "source": [
    "x.insert(0, \"Independence\")\n",
    "x"
   ]
  },
  {
   "cell_type": "code",
   "execution_count": 5,
   "id": "54ad56c2-91cf-4473-97bf-b85ae5e8a241",
   "metadata": {},
   "outputs": [
    {
     "data": {
      "text/plain": [
       "['Karnataka', 200, 'Delhi', 1947, 'India', 'Independence']"
      ]
     },
     "execution_count": 5,
     "metadata": {},
     "output_type": "execute_result"
    }
   ],
   "source": [
    "x.reverse()\n",
    "x"
   ]
  },
  {
   "cell_type": "code",
   "execution_count": 6,
   "id": "841abc02-fda9-46ee-ba3d-31ebecd22861",
   "metadata": {},
   "outputs": [
    {
     "data": {
      "text/plain": [
       "19"
      ]
     },
     "execution_count": 6,
     "metadata": {},
     "output_type": "execute_result"
    }
   ],
   "source": [
    "# Strip cases\n",
    "y = \"19M\"\n",
    "a = y.rstrip(\"M\")\n",
    "int(a)"
   ]
  },
  {
   "cell_type": "code",
   "execution_count": 7,
   "id": "6f2b4ce9-3161-4a06-9f9b-c36efd726e16",
   "metadata": {},
   "outputs": [
    {
     "data": {
      "text/plain": [
       "1947"
      ]
     },
     "execution_count": 7,
     "metadata": {},
     "output_type": "execute_result"
    }
   ],
   "source": [
    "x[3]"
   ]
  },
  {
   "cell_type": "code",
   "execution_count": 8,
   "id": "a268e66c-044a-4065-b63b-2e8cdbda97c9",
   "metadata": {},
   "outputs": [
    {
     "data": {
      "text/plain": [
       "[200, 'Delhi']"
      ]
     },
     "execution_count": 8,
     "metadata": {},
     "output_type": "execute_result"
    }
   ],
   "source": [
    "x[1:3]"
   ]
  },
  {
   "cell_type": "code",
   "execution_count": 9,
   "id": "d674d8d9-589e-4f14-9fe3-9a627f799a28",
   "metadata": {},
   "outputs": [
    {
     "data": {
      "text/plain": [
       "6"
      ]
     },
     "execution_count": 9,
     "metadata": {},
     "output_type": "execute_result"
    }
   ],
   "source": [
    "len(x)"
   ]
  },
  {
   "cell_type": "code",
   "execution_count": 10,
   "id": "002f07d4-6054-4990-bea8-7ab104fe6d78",
   "metadata": {},
   "outputs": [],
   "source": [
    "t = (\"Raghunandan\", 12, \"Mysuru\")"
   ]
  },
  {
   "cell_type": "code",
   "execution_count": 11,
   "id": "afde694e-4cef-45b1-8ee9-74dc567bea25",
   "metadata": {},
   "outputs": [
    {
     "data": {
      "text/plain": [
       "tuple"
      ]
     },
     "execution_count": 11,
     "metadata": {},
     "output_type": "execute_result"
    }
   ],
   "source": [
    "type(t)"
   ]
  },
  {
   "cell_type": "code",
   "execution_count": 12,
   "id": "e4782558-27ad-481f-b006-513a75972fea",
   "metadata": {},
   "outputs": [
    {
     "data": {
      "text/plain": [
       "['__add__',\n",
       " '__class__',\n",
       " '__class_getitem__',\n",
       " '__contains__',\n",
       " '__delattr__',\n",
       " '__dir__',\n",
       " '__doc__',\n",
       " '__eq__',\n",
       " '__format__',\n",
       " '__ge__',\n",
       " '__getattribute__',\n",
       " '__getitem__',\n",
       " '__getnewargs__',\n",
       " '__getstate__',\n",
       " '__gt__',\n",
       " '__hash__',\n",
       " '__init__',\n",
       " '__init_subclass__',\n",
       " '__iter__',\n",
       " '__le__',\n",
       " '__len__',\n",
       " '__lt__',\n",
       " '__mul__',\n",
       " '__ne__',\n",
       " '__new__',\n",
       " '__reduce__',\n",
       " '__reduce_ex__',\n",
       " '__repr__',\n",
       " '__rmul__',\n",
       " '__setattr__',\n",
       " '__sizeof__',\n",
       " '__str__',\n",
       " '__subclasshook__',\n",
       " 'count',\n",
       " 'index']"
      ]
     },
     "execution_count": 12,
     "metadata": {},
     "output_type": "execute_result"
    }
   ],
   "source": [
    "dir(tuple)"
   ]
  },
  {
   "cell_type": "code",
   "execution_count": 13,
   "id": "6bdbfa44-e64d-4168-97af-9c2a5c00d51d",
   "metadata": {},
   "outputs": [
    {
     "data": {
      "text/plain": [
       "{'id': 101, 'name': 'India', 'age': 200, 'city': 'Delhi'}"
      ]
     },
     "execution_count": 13,
     "metadata": {},
     "output_type": "execute_result"
    }
   ],
   "source": [
    "# Dictionary - k:v\n",
    "d1 = {\"id\":101, \"name\":\"India\", \"age\":200, \"city\":\"Delhi\"}\n",
    "d1"
   ]
  },
  {
   "cell_type": "code",
   "execution_count": 14,
   "id": "80832b1f-8717-4400-a6bb-7c0b3ee1c496",
   "metadata": {},
   "outputs": [
    {
     "data": {
      "text/plain": [
       "'India'"
      ]
     },
     "execution_count": 14,
     "metadata": {},
     "output_type": "execute_result"
    }
   ],
   "source": [
    "d1[\"name\"]"
   ]
  },
  {
   "cell_type": "code",
   "execution_count": 15,
   "id": "7226b767-d12d-42d2-809d-ca205275f4fd",
   "metadata": {},
   "outputs": [
    {
     "data": {
      "text/plain": [
       "'India'"
      ]
     },
     "execution_count": 15,
     "metadata": {},
     "output_type": "execute_result"
    }
   ],
   "source": [
    "d1.get(\"name\")"
   ]
  },
  {
   "cell_type": "code",
   "execution_count": 16,
   "id": "ca289ca6-5ebe-49d2-b635-e2b575b720d7",
   "metadata": {},
   "outputs": [],
   "source": [
    "del d1[\"city\"]"
   ]
  },
  {
   "cell_type": "code",
   "execution_count": 17,
   "id": "0755a1c4-80a1-45ef-8be2-d61d631e2277",
   "metadata": {},
   "outputs": [
    {
     "data": {
      "text/plain": [
       "{'id': 101, 'name': 'India', 'age': 200}"
      ]
     },
     "execution_count": 17,
     "metadata": {},
     "output_type": "execute_result"
    }
   ],
   "source": [
    "d1"
   ]
  },
  {
   "cell_type": "code",
   "execution_count": 18,
   "id": "1d005949-1f2c-44a9-9220-e00d18d42e09",
   "metadata": {},
   "outputs": [],
   "source": [
    "s1 = {1, 4, 7, 9, 12}\n",
    "s2 = {4, 6, 12, 8, 15}"
   ]
  },
  {
   "cell_type": "code",
   "execution_count": 19,
   "id": "3da48ea3-553d-4b98-9da2-d8d2c7d23298",
   "metadata": {},
   "outputs": [
    {
     "data": {
      "text/plain": [
       "{1, 4, 6, 7, 8, 9, 12, 15}"
      ]
     },
     "execution_count": 19,
     "metadata": {},
     "output_type": "execute_result"
    }
   ],
   "source": [
    "s1.union(s2)"
   ]
  },
  {
   "cell_type": "code",
   "execution_count": 20,
   "id": "da8b6996-689b-4c6a-9e1c-304b300c087f",
   "metadata": {},
   "outputs": [
    {
     "data": {
      "text/plain": [
       "{4, 12}"
      ]
     },
     "execution_count": 20,
     "metadata": {},
     "output_type": "execute_result"
    }
   ],
   "source": [
    "s1.intersection(s2)"
   ]
  },
  {
   "cell_type": "code",
   "execution_count": 21,
   "id": "3d003175-d040-4c6b-b210-c1aa281e4ef8",
   "metadata": {},
   "outputs": [
    {
     "data": {
      "text/plain": [
       "[14, 56, 72, 90]"
      ]
     },
     "execution_count": 21,
     "metadata": {},
     "output_type": "execute_result"
    }
   ],
   "source": [
    "# List comprehension - without\n",
    "data = [23, 14, 56, 72, 90]\n",
    "new_data = []\n",
    "for x in data:\n",
    "    if x%2==0:\n",
    "        new_data.append(x)\n",
    "new_data"
   ]
  },
  {
   "cell_type": "code",
   "execution_count": 22,
   "id": "35df7fb5-f4f9-4d54-882f-dcb0fd8b44e7",
   "metadata": {},
   "outputs": [
    {
     "data": {
      "text/plain": [
       "[14, 56, 72, 90]"
      ]
     },
     "execution_count": 22,
     "metadata": {},
     "output_type": "execute_result"
    }
   ],
   "source": [
    "# If list comprehension is used!\n",
    "data1 = [x for x in data if x%2==0]\n",
    "data1"
   ]
  },
  {
   "cell_type": "code",
   "execution_count": 23,
   "id": "2b9c867b-0d7e-4d73-ac80-f60ad8b210b9",
   "metadata": {},
   "outputs": [
    {
     "name": "stdout",
     "output_type": "stream",
     "text": [
      "Requirement already satisfied: pandas in c:\\users\\dell\\appdata\\local\\programs\\python\\python312\\lib\\site-packages (2.2.3)\n",
      "Requirement already satisfied: numpy in c:\\users\\dell\\appdata\\local\\programs\\python\\python312\\lib\\site-packages (2.0.2)\n",
      "Requirement already satisfied: matplotlib in c:\\users\\dell\\appdata\\local\\programs\\python\\python312\\lib\\site-packages (3.10.0)\n",
      "Requirement already satisfied: seaborn in c:\\users\\dell\\appdata\\local\\programs\\python\\python312\\lib\\site-packages (0.13.2)\n",
      "Requirement already satisfied: python-dateutil>=2.8.2 in c:\\users\\dell\\appdata\\local\\programs\\python\\python312\\lib\\site-packages (from pandas) (2.9.0.post0)\n",
      "Requirement already satisfied: pytz>=2020.1 in c:\\users\\dell\\appdata\\local\\programs\\python\\python312\\lib\\site-packages (from pandas) (2025.1)\n",
      "Requirement already satisfied: tzdata>=2022.7 in c:\\users\\dell\\appdata\\local\\programs\\python\\python312\\lib\\site-packages (from pandas) (2025.1)\n",
      "Requirement already satisfied: contourpy>=1.0.1 in c:\\users\\dell\\appdata\\local\\programs\\python\\python312\\lib\\site-packages (from matplotlib) (1.3.1)\n",
      "Requirement already satisfied: cycler>=0.10 in c:\\users\\dell\\appdata\\local\\programs\\python\\python312\\lib\\site-packages (from matplotlib) (0.12.1)\n",
      "Requirement already satisfied: fonttools>=4.22.0 in c:\\users\\dell\\appdata\\local\\programs\\python\\python312\\lib\\site-packages (from matplotlib) (4.56.0)\n",
      "Requirement already satisfied: kiwisolver>=1.3.1 in c:\\users\\dell\\appdata\\local\\programs\\python\\python312\\lib\\site-packages (from matplotlib) (1.4.8)\n",
      "Requirement already satisfied: packaging>=20.0 in c:\\users\\dell\\appdata\\local\\programs\\python\\python312\\lib\\site-packages (from matplotlib) (24.2)\n",
      "Requirement already satisfied: pillow>=8 in c:\\users\\dell\\appdata\\local\\programs\\python\\python312\\lib\\site-packages (from matplotlib) (11.1.0)\n",
      "Requirement already satisfied: pyparsing>=2.3.1 in c:\\users\\dell\\appdata\\local\\programs\\python\\python312\\lib\\site-packages (from matplotlib) (3.2.1)\n",
      "Requirement already satisfied: six>=1.5 in c:\\users\\dell\\appdata\\local\\programs\\python\\python312\\lib\\site-packages (from python-dateutil>=2.8.2->pandas) (1.17.0)\n",
      "Note: you may need to restart the kernel to use updated packages.\n"
     ]
    }
   ],
   "source": [
    "pip install pandas numpy matplotlib seaborn"
   ]
  },
  {
   "cell_type": "code",
   "execution_count": 24,
   "id": "3d836842-7574-4390-bf64-5c7b5f34f12b",
   "metadata": {},
   "outputs": [],
   "source": [
    "import numpy as np"
   ]
  },
  {
   "cell_type": "code",
   "execution_count": 25,
   "id": "d7091056-1bca-4ea8-a6ca-536e7aba61dd",
   "metadata": {},
   "outputs": [
    {
     "data": {
      "text/plain": [
       "np.float64(51.0)"
      ]
     },
     "execution_count": 25,
     "metadata": {},
     "output_type": "execute_result"
    }
   ],
   "source": [
    "data = [23, 14, 56, 72, 90]\n",
    "np.mean(data)"
   ]
  },
  {
   "cell_type": "code",
   "execution_count": 26,
   "id": "bb82ab24-4738-493f-8719-fd4d767875f1",
   "metadata": {},
   "outputs": [
    {
     "data": {
      "text/plain": [
       "np.int64(14)"
      ]
     },
     "execution_count": 26,
     "metadata": {},
     "output_type": "execute_result"
    }
   ],
   "source": [
    "np.min(data)"
   ]
  },
  {
   "cell_type": "code",
   "execution_count": 27,
   "id": "dbac4dbf-1f9e-4fe8-ae6a-53dd6f0bd71a",
   "metadata": {},
   "outputs": [],
   "source": [
    "a = [1, 3, 5, 6]\n",
    "b = [4, 5, 6, 7]\n",
    "arr1 = np.array(a)\n",
    "arr2 = np.array(b)"
   ]
  },
  {
   "cell_type": "code",
   "execution_count": 28,
   "id": "5764b5a1-42de-4f6d-8871-b1070542962c",
   "metadata": {},
   "outputs": [
    {
     "data": {
      "text/plain": [
       "array([4, 5, 6, 7])"
      ]
     },
     "execution_count": 28,
     "metadata": {},
     "output_type": "execute_result"
    }
   ],
   "source": [
    "arr2"
   ]
  },
  {
   "cell_type": "code",
   "execution_count": 29,
   "id": "1a51a8ff-e96b-4539-b1af-72f80ed28e63",
   "metadata": {},
   "outputs": [
    {
     "data": {
      "text/plain": [
       "array([ 4, 15, 30, 42])"
      ]
     },
     "execution_count": 29,
     "metadata": {},
     "output_type": "execute_result"
    }
   ],
   "source": [
    "arr1 * arr2"
   ]
  },
  {
   "cell_type": "code",
   "execution_count": 30,
   "id": "af257dc1-19e1-480e-87f7-5729d71411c6",
   "metadata": {},
   "outputs": [
    {
     "data": {
      "text/plain": [
       "1"
      ]
     },
     "execution_count": 30,
     "metadata": {},
     "output_type": "execute_result"
    }
   ],
   "source": [
    "arr1.ndim"
   ]
  },
  {
   "cell_type": "code",
   "execution_count": 31,
   "id": "e9c55a7c-4cf1-44fc-bb13-cabb06a641f8",
   "metadata": {},
   "outputs": [
    {
     "data": {
      "text/plain": [
       "(4,)"
      ]
     },
     "execution_count": 31,
     "metadata": {},
     "output_type": "execute_result"
    }
   ],
   "source": [
    "arr1.shape"
   ]
  },
  {
   "cell_type": "code",
   "execution_count": 32,
   "id": "d22bf942-02af-437e-a962-85e2fd780375",
   "metadata": {},
   "outputs": [
    {
     "data": {
      "text/plain": [
       "dtype('int64')"
      ]
     },
     "execution_count": 32,
     "metadata": {},
     "output_type": "execute_result"
    }
   ],
   "source": [
    "arr1.dtype"
   ]
  },
  {
   "cell_type": "code",
   "execution_count": 33,
   "id": "3006c7b1-3dfe-4b2a-85a5-678a7727ab88",
   "metadata": {},
   "outputs": [
    {
     "data": {
      "text/plain": [
       "array([[1, 2, 3],\n",
       "       [4, 5, 6],\n",
       "       [7, 8, 9]])"
      ]
     },
     "execution_count": 33,
     "metadata": {},
     "output_type": "execute_result"
    }
   ],
   "source": [
    "arr3 = np.array([[1, 2, 3],[4, 5, 6], [7, 8, 9]])\n",
    "arr3"
   ]
  },
  {
   "cell_type": "code",
   "execution_count": 34,
   "id": "ba710357-ddd1-491c-b8aa-3c4b58ee27f1",
   "metadata": {},
   "outputs": [
    {
     "data": {
      "text/plain": [
       "2"
      ]
     },
     "execution_count": 34,
     "metadata": {},
     "output_type": "execute_result"
    }
   ],
   "source": [
    "arr3.ndim"
   ]
  },
  {
   "cell_type": "code",
   "execution_count": 35,
   "id": "4f0eadf6-9a59-4358-96ae-063279e4fbaf",
   "metadata": {},
   "outputs": [
    {
     "data": {
      "text/plain": [
       "(3, 3)"
      ]
     },
     "execution_count": 35,
     "metadata": {},
     "output_type": "execute_result"
    }
   ],
   "source": [
    "arr3.shape"
   ]
  },
  {
   "cell_type": "code",
   "execution_count": 36,
   "id": "4054ddb0-bbd7-4e72-9aa8-acf3271095cf",
   "metadata": {},
   "outputs": [
    {
     "data": {
      "text/plain": [
       "array([0, 1, 2, 3, 4, 5, 6, 7, 8, 9])"
      ]
     },
     "execution_count": 36,
     "metadata": {},
     "output_type": "execute_result"
    }
   ],
   "source": [
    "np.arange(0, 10, 1)"
   ]
  },
  {
   "cell_type": "code",
   "execution_count": 37,
   "id": "efd16360-770b-4215-9308-f743cb20858f",
   "metadata": {},
   "outputs": [
    {
     "data": {
      "text/plain": [
       "array([4, 5, 6, 7, 8, 9])"
      ]
     },
     "execution_count": 37,
     "metadata": {},
     "output_type": "execute_result"
    }
   ],
   "source": [
    "np.arange(4, 10)"
   ]
  },
  {
   "cell_type": "code",
   "execution_count": 38,
   "id": "3d2d59cf-615d-43d1-8476-94e7d24973d3",
   "metadata": {},
   "outputs": [
    {
     "data": {
      "text/plain": [
       "array([10,  9,  8,  7,  6,  5,  4,  3,  2])"
      ]
     },
     "execution_count": 38,
     "metadata": {},
     "output_type": "execute_result"
    }
   ],
   "source": [
    "np.arange(10, 1, -1)"
   ]
  },
  {
   "cell_type": "code",
   "execution_count": 39,
   "id": "0df8f5ac-9433-454b-bcb2-80b0dd6ddb03",
   "metadata": {},
   "outputs": [
    {
     "data": {
      "text/plain": [
       "array([95, 14, 15, 69, 22], dtype=int32)"
      ]
     },
     "execution_count": 39,
     "metadata": {},
     "output_type": "execute_result"
    }
   ],
   "source": [
    "np.random.randint(10, 100, 5)"
   ]
  },
  {
   "cell_type": "code",
   "execution_count": 40,
   "id": "6c0edbc8-7491-4190-b6db-414027b25e3b",
   "metadata": {},
   "outputs": [
    {
     "data": {
      "text/plain": [
       "array([65.78893493, 95.2472233 , 76.21487076, 74.36694756, 60.78028722,\n",
       "       64.67178337, 63.8321356 , 28.84967171, 87.85981174, 53.4316503 ,\n",
       "       91.62326172, 67.14917597, 24.12014346, 75.56451234, 59.76295763,\n",
       "       51.38267597, 37.36322389, 95.81232787, 75.33443833, 90.71318518,\n",
       "       39.29465593, 62.51758572, 78.32227264, 55.91760652, 78.6093929 ,\n",
       "       45.13435973, 94.57426686, 83.55804701, 70.79196903, 55.1819231 ,\n",
       "       99.51281227, 65.67387367, 41.34096503, 13.87591035, 79.18008906,\n",
       "       30.96935638, 13.44961987, 83.1568179 , 18.36296822, 67.33870543,\n",
       "       13.94507176, 40.47310351, 91.55511658, 32.77327735, 61.46700501,\n",
       "       90.84380473, 28.10198492, 77.09805066, 68.24204364, 52.70681092])"
      ]
     },
     "execution_count": 40,
     "metadata": {},
     "output_type": "execute_result"
    }
   ],
   "source": [
    "np.random.uniform(10, 100, 50)"
   ]
  },
  {
   "cell_type": "code",
   "execution_count": 41,
   "id": "5db9edde-2ac9-4179-8ea8-a763900f11da",
   "metadata": {
    "scrolled": true
   },
   "outputs": [
    {
     "data": {
      "text/plain": [
       "array([0.31388684, 0.9856686 , 0.82518625, 0.9400056 , 0.94287945,\n",
       "       0.73443629, 0.98403514, 0.32689861, 0.4227834 , 0.64889208,\n",
       "       0.9542615 , 0.99068956, 0.98090429, 0.85840938, 0.43512032,\n",
       "       0.5914683 , 0.89851547, 0.40874036, 0.23141235, 0.43839908,\n",
       "       0.44965732, 0.58946454, 0.8975317 , 0.56286167, 0.87562645,\n",
       "       0.29959387, 0.07960448, 0.51734325, 0.1612824 , 0.50700592,\n",
       "       0.32008197, 0.58345173, 0.09032436, 0.3067743 , 0.57947143,\n",
       "       0.15617005, 0.27540622, 0.34702572, 0.43611686, 0.02713388,\n",
       "       0.98014598, 0.01340251, 0.15498416, 0.18654403, 0.73160794,\n",
       "       0.43224656, 0.99856005, 0.81491791, 0.94619129, 0.11704352,\n",
       "       0.56135324, 0.45128076, 0.78499203, 0.30065979, 0.28875724,\n",
       "       0.12383034, 0.02164598, 0.28889057, 0.37888056, 0.42091573,\n",
       "       0.91176348, 0.05875122, 0.79797544, 0.17556147, 0.89370302,\n",
       "       0.15456229, 0.79111916, 0.81992343, 0.49281613, 0.8704778 ,\n",
       "       0.09436663, 0.14724885, 0.39641372, 0.34736924, 0.34520102,\n",
       "       0.16509909, 0.15141758, 0.60124782, 0.0101944 , 0.45184449,\n",
       "       0.31555661, 0.70836809, 0.77236429, 0.07667625, 0.22174334,\n",
       "       0.04339731, 0.97166409, 0.05824997, 0.2421197 , 0.40149678,\n",
       "       0.78495636, 0.28724308, 0.13784456, 0.83190744, 0.4573793 ,\n",
       "       0.72666829, 0.12826582, 0.38275104, 0.94701455, 0.79339095])"
      ]
     },
     "execution_count": 41,
     "metadata": {},
     "output_type": "execute_result"
    }
   ],
   "source": [
    "np.random.rand(100)"
   ]
  },
  {
   "cell_type": "code",
   "execution_count": 42,
   "id": "594ff798-40ea-4fd1-b816-11ec16b49150",
   "metadata": {},
   "outputs": [
    {
     "data": {
      "text/plain": [
       "array([[67, 78, 56],\n",
       "       [41, 99, 11],\n",
       "       [41, 44, 16],\n",
       "       [61, 96, 75]], dtype=int32)"
      ]
     },
     "execution_count": 42,
     "metadata": {},
     "output_type": "execute_result"
    }
   ],
   "source": [
    "np.random.randint(10, 100, 12).reshape(4, 3)"
   ]
  },
  {
   "cell_type": "code",
   "execution_count": 43,
   "id": "f8b356d3-8dc3-41d2-9787-258b00c0fc8d",
   "metadata": {},
   "outputs": [
    {
     "data": {
      "text/plain": [
       "np.float64(45.0)"
      ]
     },
     "execution_count": 43,
     "metadata": {},
     "output_type": "execute_result"
    }
   ],
   "source": [
    "r = 45.7\n",
    "np.floor(r)"
   ]
  },
  {
   "cell_type": "code",
   "execution_count": 44,
   "id": "144e2626-c005-498a-82a4-a453cdd1eb27",
   "metadata": {},
   "outputs": [
    {
     "data": {
      "text/plain": [
       "np.float64(46.0)"
      ]
     },
     "execution_count": 44,
     "metadata": {},
     "output_type": "execute_result"
    }
   ],
   "source": [
    "np.ceil(r)"
   ]
  },
  {
   "cell_type": "code",
   "execution_count": 45,
   "id": "a2325e3b-2a41-474a-8d98-06d29fd5fb9a",
   "metadata": {},
   "outputs": [],
   "source": [
    "z = np.random.randint(1, 100, 12)"
   ]
  },
  {
   "cell_type": "code",
   "execution_count": 46,
   "id": "5c83388c-b7f9-40fb-b6a7-e71e91e4ce66",
   "metadata": {},
   "outputs": [],
   "source": [
    "z = sorted(z)"
   ]
  },
  {
   "cell_type": "code",
   "execution_count": 47,
   "id": "5bde4ab9-cfc3-45b5-9004-02b886dfe92d",
   "metadata": {},
   "outputs": [
    {
     "data": {
      "text/plain": [
       "[np.int32(8),\n",
       " np.int32(13),\n",
       " np.int32(15),\n",
       " np.int32(15),\n",
       " np.int32(26),\n",
       " np.int32(27),\n",
       " np.int32(36),\n",
       " np.int32(37),\n",
       " np.int32(51),\n",
       " np.int32(57),\n",
       " np.int32(62),\n",
       " np.int32(84)]"
      ]
     },
     "execution_count": 47,
     "metadata": {},
     "output_type": "execute_result"
    }
   ],
   "source": [
    "z"
   ]
  },
  {
   "cell_type": "code",
   "execution_count": 48,
   "id": "4f67fc1d-074d-4806-a669-476971991406",
   "metadata": {},
   "outputs": [
    {
     "data": {
      "text/plain": [
       "np.float64(52.5)"
      ]
     },
     "execution_count": 48,
     "metadata": {},
     "output_type": "execute_result"
    }
   ],
   "source": [
    "np.percentile(z, 75)"
   ]
  },
  {
   "cell_type": "code",
   "execution_count": 49,
   "id": "8ba1ea8e-773c-4fd6-a375-f42933959beb",
   "metadata": {},
   "outputs": [],
   "source": [
    "import pandas as pd"
   ]
  },
  {
   "cell_type": "code",
   "execution_count": 50,
   "id": "23d7feae-fadb-4859-a903-fe78773ea97b",
   "metadata": {},
   "outputs": [],
   "source": [
    "renewable_sources = ['Solar', 'Wind', 'Hydropower', 'Geothermal', 'Biomass']\n",
    "\n",
    "data = {\n",
    "    \"Project\":['Solar Farm', 'Wind Turbine', 'Hydropower', 'Solar Roof', 'Geothermal Plant'],\n",
    "    \"Technology\":['Solar', 'Wind', 'Hydro', 'Solar', 'Geothermal'],\n",
    "    \"Capacity (MW)\":[150, 300, 200, 50, 100],\n",
    "    \"Cost (Millions $)\":[200, 400, 350, 100, 250],\n",
    "    \"Location\":[\"California\", \"Texas\", \"Washington\", \"Nevada\", \"Chicago\"],\n",
    "    \"Completion Year\": [2023, 2024, 2022, 2025, 2023]\n",
    "}"
   ]
  },
  {
   "cell_type": "code",
   "execution_count": 51,
   "id": "0748e3b8-6ffd-4c10-b49a-8e0c197c7d12",
   "metadata": {},
   "outputs": [
    {
     "name": "stdout",
     "output_type": "stream",
     "text": [
      "Renewable Energy Sources are:\n",
      "0         Solar\n",
      "1          Wind\n",
      "2    Hydropower\n",
      "3    Geothermal\n",
      "4       Biomass\n",
      "dtype: object\n"
     ]
    }
   ],
   "source": [
    "# Create a pandas series for renewable energy sources\n",
    "renewable_series = pd.Series(renewable_sources)\n",
    "print(\"Renewable Energy Sources are:\")\n",
    "print(renewable_series)"
   ]
  },
  {
   "cell_type": "code",
   "execution_count": 52,
   "id": "22f1aca6-761f-453e-a043-5902567a70f8",
   "metadata": {},
   "outputs": [
    {
     "name": "stdout",
     "output_type": "stream",
     "text": [
      "Green Technology Projects DataFrame:\n",
      "            Project  Technology  Capacity (MW)  Cost (Millions $)    Location  \\\n",
      "0        Solar Farm       Solar            150                200  California   \n",
      "1      Wind Turbine        Wind            300                400       Texas   \n",
      "2        Hydropower       Hydro            200                350  Washington   \n",
      "3        Solar Roof       Solar             50                100      Nevada   \n",
      "4  Geothermal Plant  Geothermal            100                250     Chicago   \n",
      "\n",
      "   Completion Year  \n",
      "0             2023  \n",
      "1             2024  \n",
      "2             2022  \n",
      "3             2025  \n",
      "4             2023  \n"
     ]
    }
   ],
   "source": [
    "# Create a DataFrame for green tech projects\n",
    "df = pd.DataFrame(data)\n",
    "print(\"Green Technology Projects DataFrame:\")\n",
    "print(df)"
   ]
  },
  {
   "cell_type": "code",
   "execution_count": 53,
   "id": "67e14d8f-983c-47cc-b9a6-5184d0c83bd3",
   "metadata": {},
   "outputs": [
    {
     "data": {
      "text/plain": [
       "0          Solar Farm\n",
       "1        Wind Turbine\n",
       "2          Hydropower\n",
       "3          Solar Roof\n",
       "4    Geothermal Plant\n",
       "Name: Project, dtype: object"
      ]
     },
     "execution_count": 53,
     "metadata": {},
     "output_type": "execute_result"
    }
   ],
   "source": [
    "df['Project']"
   ]
  },
  {
   "cell_type": "code",
   "execution_count": 54,
   "id": "f508cf46-1173-463a-93a2-4440c2342258",
   "metadata": {},
   "outputs": [
    {
     "name": "stdout",
     "output_type": "stream",
     "text": [
      "0          Solar Farm\n",
      "1        Wind Turbine\n",
      "2          Hydropower\n",
      "3          Solar Roof\n",
      "4    Geothermal Plant\n",
      "Name: Project, dtype: object\n"
     ]
    }
   ],
   "source": [
    "print(df['Project'])"
   ]
  },
  {
   "cell_type": "code",
   "execution_count": 55,
   "id": "c4330342-1bc3-41b8-98c4-7343593df14b",
   "metadata": {},
   "outputs": [
    {
     "data": {
      "text/plain": [
       "0    California\n",
       "1         Texas\n",
       "2    Washington\n",
       "3        Nevada\n",
       "4       Chicago\n",
       "Name: Location, dtype: object"
      ]
     },
     "execution_count": 55,
     "metadata": {},
     "output_type": "execute_result"
    }
   ],
   "source": [
    "df['Location']"
   ]
  },
  {
   "cell_type": "code",
   "execution_count": 56,
   "id": "40f3d133-b6f0-4784-9fe8-ee82671e08f0",
   "metadata": {},
   "outputs": [
    {
     "data": {
      "text/html": [
       "<div>\n",
       "<style scoped>\n",
       "    .dataframe tbody tr th:only-of-type {\n",
       "        vertical-align: middle;\n",
       "    }\n",
       "\n",
       "    .dataframe tbody tr th {\n",
       "        vertical-align: top;\n",
       "    }\n",
       "\n",
       "    .dataframe thead th {\n",
       "        text-align: right;\n",
       "    }\n",
       "</style>\n",
       "<table border=\"1\" class=\"dataframe\">\n",
       "  <thead>\n",
       "    <tr style=\"text-align: right;\">\n",
       "      <th></th>\n",
       "      <th>Project</th>\n",
       "      <th>Technology</th>\n",
       "      <th>Capacity (MW)</th>\n",
       "      <th>Cost (Millions $)</th>\n",
       "      <th>Location</th>\n",
       "      <th>Completion Year</th>\n",
       "    </tr>\n",
       "  </thead>\n",
       "  <tbody>\n",
       "    <tr>\n",
       "      <th>0</th>\n",
       "      <td>Solar Farm</td>\n",
       "      <td>Solar</td>\n",
       "      <td>150</td>\n",
       "      <td>200</td>\n",
       "      <td>California</td>\n",
       "      <td>2023</td>\n",
       "    </tr>\n",
       "    <tr>\n",
       "      <th>1</th>\n",
       "      <td>Wind Turbine</td>\n",
       "      <td>Wind</td>\n",
       "      <td>300</td>\n",
       "      <td>400</td>\n",
       "      <td>Texas</td>\n",
       "      <td>2024</td>\n",
       "    </tr>\n",
       "    <tr>\n",
       "      <th>2</th>\n",
       "      <td>Hydropower</td>\n",
       "      <td>Hydro</td>\n",
       "      <td>200</td>\n",
       "      <td>350</td>\n",
       "      <td>Washington</td>\n",
       "      <td>2022</td>\n",
       "    </tr>\n",
       "  </tbody>\n",
       "</table>\n",
       "</div>"
      ],
      "text/plain": [
       "        Project Technology  Capacity (MW)  Cost (Millions $)    Location  \\\n",
       "0    Solar Farm      Solar            150                200  California   \n",
       "1  Wind Turbine       Wind            300                400       Texas   \n",
       "2    Hydropower      Hydro            200                350  Washington   \n",
       "\n",
       "   Completion Year  \n",
       "0             2023  \n",
       "1             2024  \n",
       "2             2022  "
      ]
     },
     "execution_count": 56,
     "metadata": {},
     "output_type": "execute_result"
    }
   ],
   "source": [
    "# Want to print only high capacity projects (> 100 MW)\n",
    "hcp = df[df['Capacity (MW)'] > 100]\n",
    "hcp"
   ]
  },
  {
   "cell_type": "code",
   "execution_count": 57,
   "id": "d31b1676-c7e9-4106-8bd3-fb69f81a53be",
   "metadata": {},
   "outputs": [
    {
     "data": {
      "text/plain": [
       "0     True\n",
       "1     True\n",
       "2     True\n",
       "3    False\n",
       "4    False\n",
       "Name: Capacity (MW), dtype: bool"
      ]
     },
     "execution_count": 57,
     "metadata": {},
     "output_type": "execute_result"
    }
   ],
   "source": [
    "df['Capacity (MW)'] > 100"
   ]
  },
  {
   "cell_type": "code",
   "execution_count": 58,
   "id": "5625a078-45f1-4cf2-885b-568919a0f6d0",
   "metadata": {},
   "outputs": [
    {
     "data": {
      "text/html": [
       "<div>\n",
       "<style scoped>\n",
       "    .dataframe tbody tr th:only-of-type {\n",
       "        vertical-align: middle;\n",
       "    }\n",
       "\n",
       "    .dataframe tbody tr th {\n",
       "        vertical-align: top;\n",
       "    }\n",
       "\n",
       "    .dataframe thead th {\n",
       "        text-align: right;\n",
       "    }\n",
       "</style>\n",
       "<table border=\"1\" class=\"dataframe\">\n",
       "  <thead>\n",
       "    <tr style=\"text-align: right;\">\n",
       "      <th></th>\n",
       "      <th>Project</th>\n",
       "      <th>Technology</th>\n",
       "      <th>Capacity (MW)</th>\n",
       "      <th>Cost (Millions $)</th>\n",
       "      <th>Location</th>\n",
       "      <th>Completion Year</th>\n",
       "      <th>Cost per MW</th>\n",
       "    </tr>\n",
       "  </thead>\n",
       "  <tbody>\n",
       "    <tr>\n",
       "      <th>0</th>\n",
       "      <td>Solar Farm</td>\n",
       "      <td>Solar</td>\n",
       "      <td>150</td>\n",
       "      <td>200</td>\n",
       "      <td>California</td>\n",
       "      <td>2023</td>\n",
       "      <td>1.333333</td>\n",
       "    </tr>\n",
       "    <tr>\n",
       "      <th>1</th>\n",
       "      <td>Wind Turbine</td>\n",
       "      <td>Wind</td>\n",
       "      <td>300</td>\n",
       "      <td>400</td>\n",
       "      <td>Texas</td>\n",
       "      <td>2024</td>\n",
       "      <td>1.333333</td>\n",
       "    </tr>\n",
       "    <tr>\n",
       "      <th>2</th>\n",
       "      <td>Hydropower</td>\n",
       "      <td>Hydro</td>\n",
       "      <td>200</td>\n",
       "      <td>350</td>\n",
       "      <td>Washington</td>\n",
       "      <td>2022</td>\n",
       "      <td>1.750000</td>\n",
       "    </tr>\n",
       "    <tr>\n",
       "      <th>3</th>\n",
       "      <td>Solar Roof</td>\n",
       "      <td>Solar</td>\n",
       "      <td>50</td>\n",
       "      <td>100</td>\n",
       "      <td>Nevada</td>\n",
       "      <td>2025</td>\n",
       "      <td>2.000000</td>\n",
       "    </tr>\n",
       "    <tr>\n",
       "      <th>4</th>\n",
       "      <td>Geothermal Plant</td>\n",
       "      <td>Geothermal</td>\n",
       "      <td>100</td>\n",
       "      <td>250</td>\n",
       "      <td>Chicago</td>\n",
       "      <td>2023</td>\n",
       "      <td>2.500000</td>\n",
       "    </tr>\n",
       "  </tbody>\n",
       "</table>\n",
       "</div>"
      ],
      "text/plain": [
       "            Project  Technology  Capacity (MW)  Cost (Millions $)    Location  \\\n",
       "0        Solar Farm       Solar            150                200  California   \n",
       "1      Wind Turbine        Wind            300                400       Texas   \n",
       "2        Hydropower       Hydro            200                350  Washington   \n",
       "3        Solar Roof       Solar             50                100      Nevada   \n",
       "4  Geothermal Plant  Geothermal            100                250     Chicago   \n",
       "\n",
       "   Completion Year  Cost per MW  \n",
       "0             2023     1.333333  \n",
       "1             2024     1.333333  \n",
       "2             2022     1.750000  \n",
       "3             2025     2.000000  \n",
       "4             2023     2.500000  "
      ]
     },
     "execution_count": 58,
     "metadata": {},
     "output_type": "execute_result"
    }
   ],
   "source": [
    "# Add New Col\n",
    "df[\"Cost per MW\"] =df[\"Cost (Millions $)\"] / df['Capacity (MW)']\n",
    "df"
   ]
  },
  {
   "cell_type": "code",
   "execution_count": 59,
   "id": "09faa12f-91ac-473a-adaf-2b20c5bbfe50",
   "metadata": {},
   "outputs": [
    {
     "name": "stdout",
     "output_type": "stream",
     "text": [
      "The total Capacity of all the projects are:  800\n",
      "The total cost of the projects:  1300\n"
     ]
    }
   ],
   "source": [
    "# Aggregation\n",
    "total_capacity = df[\"Capacity (MW)\"].sum()\n",
    "total_cost = df[\"Cost (Millions $)\"].sum()\n",
    "print(\"The total Capacity of all the projects are: \", total_capacity)\n",
    "print(\"The total cost of the projects: \", total_cost)"
   ]
  },
  {
   "cell_type": "code",
   "execution_count": 60,
   "id": "6b8ae9f7-472a-462c-aef4-4711d16bab3c",
   "metadata": {},
   "outputs": [
    {
     "data": {
      "text/plain": [
       "Technology\n",
       "Geothermal    100\n",
       "Hydro         200\n",
       "Solar         200\n",
       "Wind          300\n",
       "Name: Capacity (MW), dtype: int64"
      ]
     },
     "execution_count": 60,
     "metadata": {},
     "output_type": "execute_result"
    }
   ],
   "source": [
    "# Grouping of data\n",
    "grouped_data = df.groupby(\"Technology\")[\"Capacity (MW)\"].sum()\n",
    "grouped_data"
   ]
  },
  {
   "cell_type": "markdown",
   "id": "b413d538-73f3-4f4a-bffa-834a9c8b1657",
   "metadata": {},
   "source": [
    "##  3: Numpy"
   ]
  },
  {
   "cell_type": "code",
   "execution_count": 61,
   "id": "ac45b3db-9d08-4ab8-a3e0-272b9f77787d",
   "metadata": {},
   "outputs": [
    {
     "name": "stdout",
     "output_type": "stream",
     "text": [
      "Energy consumption in mWh for different energy sources:\n"
     ]
    },
    {
     "data": {
      "text/plain": [
       "array([1200, 3400, 2900, 1800, 2500])"
      ]
     },
     "execution_count": 61,
     "metadata": {},
     "output_type": "execute_result"
    }
   ],
   "source": [
    "import numpy as np\n",
    "\n",
    "energy_consumption = np.array([1200, 3400, 2900, 1800, 2500])\n",
    "print(\"Energy consumption in mWh for different energy sources:\")\n",
    "energy_consumption"
   ]
  },
  {
   "cell_type": "code",
   "execution_count": 62,
   "id": "2a70a2e6-9f8a-483c-99b3-705c271981b5",
   "metadata": {},
   "outputs": [
    {
     "name": "stdout",
     "output_type": "stream",
     "text": [
      "The total energy consumption is 11800 MWh\n"
     ]
    }
   ],
   "source": [
    "# Calculate the total energy consumption\n",
    "total_consumption = np.sum(energy_consumption)\n",
    "print(f'The total energy consumption is {total_consumption} MWh')"
   ]
  },
  {
   "cell_type": "code",
   "execution_count": 63,
   "id": "7d80c214-537a-4d31-889f-f85fb980231d",
   "metadata": {},
   "outputs": [
    {
     "name": "stdout",
     "output_type": "stream",
     "text": [
      "The mean energy consumption is 2360.0 MWh\n"
     ]
    }
   ],
   "source": [
    "# Calculate the mean energy consumption\n",
    "mean_consumption = np.mean(energy_consumption)\n",
    "print(f'The mean energy consumption is {mean_consumption} MWh')"
   ]
  },
  {
   "cell_type": "code",
   "execution_count": 64,
   "id": "e22909de-5ba1-4e7d-89a5-6cc7d1b24a2c",
   "metadata": {},
   "outputs": [
    {
     "data": {
      "text/plain": [
       "np.float64(781.2809993849844)"
      ]
     },
     "execution_count": 64,
     "metadata": {},
     "output_type": "execute_result"
    }
   ],
   "source": [
    "# Calculate the standard deviation of energy consumption\n",
    "std_ec = np.std(energy_consumption)\n",
    "std_ec"
   ]
  },
  {
   "cell_type": "code",
   "execution_count": 65,
   "id": "90e38a22-7b14-4a68-897c-8ba02805b986",
   "metadata": {},
   "outputs": [
    {
     "name": "stdout",
     "output_type": "stream",
     "text": [
      "The standard Deviation for Energy Consumption: 781.2809993849844 MWh\n"
     ]
    }
   ],
   "source": [
    "print(f'The standard Deviation for Energy Consumption: {std_ec} MWh')"
   ]
  },
  {
   "cell_type": "code",
   "execution_count": 66,
   "id": "48406462-a4b6-4f47-9160-5672ac3dc17c",
   "metadata": {},
   "outputs": [
    {
     "name": "stdout",
     "output_type": "stream",
     "text": [
      "Reshaped array is:\n",
      "[[1200]\n",
      " [3400]\n",
      " [2900]\n",
      " [1800]\n",
      " [2500]]\n"
     ]
    }
   ],
   "source": [
    "# Reshape the array\n",
    "reshaped_array = energy_consumption.reshape((5,1))\n",
    "print('Reshaped array is:')\n",
    "print(reshaped_array)"
   ]
  },
  {
   "cell_type": "markdown",
   "id": "502bf413-4aaa-4580-a55b-5e133e15ba41",
   "metadata": {},
   "source": [
    "# Data Preprocessing"
   ]
  },
  {
   "cell_type": "code",
   "execution_count": 67,
   "id": "13a489cb-b05a-429d-86c4-faacf7c8bb0f",
   "metadata": {},
   "outputs": [],
   "source": [
    "import pandas as pd\n",
    "import numpy as np\n",
    "\n",
    "# Sample data with missing values\n",
    "data = {\n",
    "    \"Energy Source\":['Solar', 'Wind', 'Hydropower', 'Geothermal', 'Biomass', 'Nuclear'],\n",
    "    \"Energy Consumption (MWh)\":[1200, np.nan, 2900, np.nan, 2500, 3200],\n",
    "    \"Cost (millions $)\":[200, 400, np.nan, 150, 250, np.nan]\n",
    "}"
   ]
  },
  {
   "cell_type": "code",
   "execution_count": 68,
   "id": "c1700f5d-34c3-425f-b166-b2caf26e8d77",
   "metadata": {},
   "outputs": [
    {
     "name": "stdout",
     "output_type": "stream",
     "text": [
      "  Energy Source  Energy Consumption (MWh)  Cost (millions $)\n",
      "0         Solar                    1200.0              200.0\n",
      "1          Wind                       NaN              400.0\n",
      "2    Hydropower                    2900.0                NaN\n",
      "3    Geothermal                       NaN              150.0\n",
      "4       Biomass                    2500.0              250.0\n",
      "5       Nuclear                    3200.0                NaN\n"
     ]
    }
   ],
   "source": [
    "# Create a dataframe:\n",
    "df = pd.DataFrame(data)\n",
    "print(df)"
   ]
  },
  {
   "cell_type": "markdown",
   "id": "136879e4-1635-461f-8b45-4530b3abdfa0",
   "metadata": {},
   "source": [
    "## Handle the missing values:\n",
    " - Removing (drop) mv\n",
    " - impute (fill) mv - mean"
   ]
  },
  {
   "cell_type": "code",
   "execution_count": 69,
   "id": "ef927437-7606-4325-b8d6-514a496297e2",
   "metadata": {},
   "outputs": [
    {
     "data": {
      "text/html": [
       "<div>\n",
       "<style scoped>\n",
       "    .dataframe tbody tr th:only-of-type {\n",
       "        vertical-align: middle;\n",
       "    }\n",
       "\n",
       "    .dataframe tbody tr th {\n",
       "        vertical-align: top;\n",
       "    }\n",
       "\n",
       "    .dataframe thead th {\n",
       "        text-align: right;\n",
       "    }\n",
       "</style>\n",
       "<table border=\"1\" class=\"dataframe\">\n",
       "  <thead>\n",
       "    <tr style=\"text-align: right;\">\n",
       "      <th></th>\n",
       "      <th>Energy Source</th>\n",
       "      <th>Energy Consumption (MWh)</th>\n",
       "      <th>Cost (millions $)</th>\n",
       "    </tr>\n",
       "  </thead>\n",
       "  <tbody>\n",
       "    <tr>\n",
       "      <th>0</th>\n",
       "      <td>Solar</td>\n",
       "      <td>1200.0</td>\n",
       "      <td>200.0</td>\n",
       "    </tr>\n",
       "    <tr>\n",
       "      <th>4</th>\n",
       "      <td>Biomass</td>\n",
       "      <td>2500.0</td>\n",
       "      <td>250.0</td>\n",
       "    </tr>\n",
       "  </tbody>\n",
       "</table>\n",
       "</div>"
      ],
      "text/plain": [
       "  Energy Source  Energy Consumption (MWh)  Cost (millions $)\n",
       "0         Solar                    1200.0              200.0\n",
       "4       Biomass                    2500.0              250.0"
      ]
     },
     "execution_count": 69,
     "metadata": {},
     "output_type": "execute_result"
    }
   ],
   "source": [
    "# Remove rows with missing value\n",
    "cleaned_df = df.dropna()\n",
    "cleaned_df"
   ]
  },
  {
   "cell_type": "markdown",
   "id": "ac0909a7-dadb-4b97-beeb-e79368f41952",
   "metadata": {},
   "source": [
    "## Imputation - too add or fill\n",
    " - with mean\n",
    " - foward/backward filling"
   ]
  },
  {
   "cell_type": "code",
   "execution_count": 70,
   "id": "94236980-6cc8-4170-b8a1-a6728bbb2839",
   "metadata": {},
   "outputs": [
    {
     "name": "stderr",
     "output_type": "stream",
     "text": [
      "C:\\Users\\DELL\\AppData\\Local\\Temp\\ipykernel_7452\\2818430243.py:2: FutureWarning: A value is trying to be set on a copy of a DataFrame or Series through chained assignment using an inplace method.\n",
      "The behavior will change in pandas 3.0. This inplace method will never work because the intermediate object on which we are setting values always behaves as a copy.\n",
      "\n",
      "For example, when doing 'df[col].method(value, inplace=True)', try using 'df.method({col: value}, inplace=True)' or df[col] = df[col].method(value) instead, to perform the operation inplace on the original object.\n",
      "\n",
      "\n",
      "  df['Energy Consumption (MWh)'].fillna(df['Energy Consumption (MWh)'].mean(), inplace=True)\n",
      "C:\\Users\\DELL\\AppData\\Local\\Temp\\ipykernel_7452\\2818430243.py:3: FutureWarning: A value is trying to be set on a copy of a DataFrame or Series through chained assignment using an inplace method.\n",
      "The behavior will change in pandas 3.0. This inplace method will never work because the intermediate object on which we are setting values always behaves as a copy.\n",
      "\n",
      "For example, when doing 'df[col].method(value, inplace=True)', try using 'df.method({col: value}, inplace=True)' or df[col] = df[col].method(value) instead, to perform the operation inplace on the original object.\n",
      "\n",
      "\n",
      "  df['Cost (millions $)'].fillna(df['Cost (millions $)'].mean(), inplace=True)\n"
     ]
    },
    {
     "data": {
      "text/html": [
       "<div>\n",
       "<style scoped>\n",
       "    .dataframe tbody tr th:only-of-type {\n",
       "        vertical-align: middle;\n",
       "    }\n",
       "\n",
       "    .dataframe tbody tr th {\n",
       "        vertical-align: top;\n",
       "    }\n",
       "\n",
       "    .dataframe thead th {\n",
       "        text-align: right;\n",
       "    }\n",
       "</style>\n",
       "<table border=\"1\" class=\"dataframe\">\n",
       "  <thead>\n",
       "    <tr style=\"text-align: right;\">\n",
       "      <th></th>\n",
       "      <th>Energy Source</th>\n",
       "      <th>Energy Consumption (MWh)</th>\n",
       "      <th>Cost (millions $)</th>\n",
       "    </tr>\n",
       "  </thead>\n",
       "  <tbody>\n",
       "    <tr>\n",
       "      <th>0</th>\n",
       "      <td>Solar</td>\n",
       "      <td>1200.0</td>\n",
       "      <td>200.0</td>\n",
       "    </tr>\n",
       "    <tr>\n",
       "      <th>1</th>\n",
       "      <td>Wind</td>\n",
       "      <td>2450.0</td>\n",
       "      <td>400.0</td>\n",
       "    </tr>\n",
       "    <tr>\n",
       "      <th>2</th>\n",
       "      <td>Hydropower</td>\n",
       "      <td>2900.0</td>\n",
       "      <td>250.0</td>\n",
       "    </tr>\n",
       "    <tr>\n",
       "      <th>3</th>\n",
       "      <td>Geothermal</td>\n",
       "      <td>2450.0</td>\n",
       "      <td>150.0</td>\n",
       "    </tr>\n",
       "    <tr>\n",
       "      <th>4</th>\n",
       "      <td>Biomass</td>\n",
       "      <td>2500.0</td>\n",
       "      <td>250.0</td>\n",
       "    </tr>\n",
       "    <tr>\n",
       "      <th>5</th>\n",
       "      <td>Nuclear</td>\n",
       "      <td>3200.0</td>\n",
       "      <td>250.0</td>\n",
       "    </tr>\n",
       "  </tbody>\n",
       "</table>\n",
       "</div>"
      ],
      "text/plain": [
       "  Energy Source  Energy Consumption (MWh)  Cost (millions $)\n",
       "0         Solar                    1200.0              200.0\n",
       "1          Wind                    2450.0              400.0\n",
       "2    Hydropower                    2900.0              250.0\n",
       "3    Geothermal                    2450.0              150.0\n",
       "4       Biomass                    2500.0              250.0\n",
       "5       Nuclear                    3200.0              250.0"
      ]
     },
     "execution_count": 70,
     "metadata": {},
     "output_type": "execute_result"
    }
   ],
   "source": [
    "# Impute missing values with the mean for energy consumption\n",
    "df['Energy Consumption (MWh)'].fillna(df['Energy Consumption (MWh)'].mean(), inplace=True)\n",
    "df['Cost (millions $)'].fillna(df['Cost (millions $)'].mean(), inplace=True)\n",
    "\n",
    "df"
   ]
  },
  {
   "cell_type": "code",
   "execution_count": 71,
   "id": "6b67fc2a-4eb6-438b-af8d-7363e3e0d3b8",
   "metadata": {},
   "outputs": [
    {
     "name": "stderr",
     "output_type": "stream",
     "text": [
      "C:\\Users\\DELL\\AppData\\Local\\Temp\\ipykernel_7452\\1748103493.py:2: FutureWarning: DataFrame.fillna with 'method' is deprecated and will raise in a future version. Use obj.ffill() or obj.bfill() instead.\n",
      "  ff_df = df.fillna(method=\"ffill\")\n"
     ]
    },
    {
     "data": {
      "text/html": [
       "<div>\n",
       "<style scoped>\n",
       "    .dataframe tbody tr th:only-of-type {\n",
       "        vertical-align: middle;\n",
       "    }\n",
       "\n",
       "    .dataframe tbody tr th {\n",
       "        vertical-align: top;\n",
       "    }\n",
       "\n",
       "    .dataframe thead th {\n",
       "        text-align: right;\n",
       "    }\n",
       "</style>\n",
       "<table border=\"1\" class=\"dataframe\">\n",
       "  <thead>\n",
       "    <tr style=\"text-align: right;\">\n",
       "      <th></th>\n",
       "      <th>Energy Source</th>\n",
       "      <th>Energy Consumption (MWh)</th>\n",
       "      <th>Cost (millions $)</th>\n",
       "    </tr>\n",
       "  </thead>\n",
       "  <tbody>\n",
       "    <tr>\n",
       "      <th>0</th>\n",
       "      <td>Solar</td>\n",
       "      <td>1200.0</td>\n",
       "      <td>200.0</td>\n",
       "    </tr>\n",
       "    <tr>\n",
       "      <th>1</th>\n",
       "      <td>Wind</td>\n",
       "      <td>2450.0</td>\n",
       "      <td>400.0</td>\n",
       "    </tr>\n",
       "    <tr>\n",
       "      <th>2</th>\n",
       "      <td>Hydropower</td>\n",
       "      <td>2900.0</td>\n",
       "      <td>250.0</td>\n",
       "    </tr>\n",
       "    <tr>\n",
       "      <th>3</th>\n",
       "      <td>Geothermal</td>\n",
       "      <td>2450.0</td>\n",
       "      <td>150.0</td>\n",
       "    </tr>\n",
       "    <tr>\n",
       "      <th>4</th>\n",
       "      <td>Biomass</td>\n",
       "      <td>2500.0</td>\n",
       "      <td>250.0</td>\n",
       "    </tr>\n",
       "    <tr>\n",
       "      <th>5</th>\n",
       "      <td>Nuclear</td>\n",
       "      <td>3200.0</td>\n",
       "      <td>250.0</td>\n",
       "    </tr>\n",
       "  </tbody>\n",
       "</table>\n",
       "</div>"
      ],
      "text/plain": [
       "  Energy Source  Energy Consumption (MWh)  Cost (millions $)\n",
       "0         Solar                    1200.0              200.0\n",
       "1          Wind                    2450.0              400.0\n",
       "2    Hydropower                    2900.0              250.0\n",
       "3    Geothermal                    2450.0              150.0\n",
       "4       Biomass                    2500.0              250.0\n",
       "5       Nuclear                    3200.0              250.0"
      ]
     },
     "execution_count": 71,
     "metadata": {},
     "output_type": "execute_result"
    }
   ],
   "source": [
    "# Forward filling missing values\n",
    "ff_df = df.fillna(method=\"ffill\")\n",
    "ff_df"
   ]
  },
  {
   "cell_type": "code",
   "execution_count": 72,
   "id": "b6066946-4aa0-4902-a142-8fa80b46f016",
   "metadata": {},
   "outputs": [
    {
     "name": "stdout",
     "output_type": "stream",
     "text": [
      "Requirement already satisfied: scikit-learn in c:\\users\\dell\\appdata\\local\\programs\\python\\python312\\lib\\site-packages (1.6.1)\n",
      "Requirement already satisfied: numpy>=1.19.5 in c:\\users\\dell\\appdata\\local\\programs\\python\\python312\\lib\\site-packages (from scikit-learn) (2.0.2)\n",
      "Requirement already satisfied: scipy>=1.6.0 in c:\\users\\dell\\appdata\\local\\programs\\python\\python312\\lib\\site-packages (from scikit-learn) (1.15.1)\n",
      "Requirement already satisfied: joblib>=1.2.0 in c:\\users\\dell\\appdata\\local\\programs\\python\\python312\\lib\\site-packages (from scikit-learn) (1.4.2)\n",
      "Requirement already satisfied: threadpoolctl>=3.1.0 in c:\\users\\dell\\appdata\\local\\programs\\python\\python312\\lib\\site-packages (from scikit-learn) (3.5.0)\n",
      "Note: you may need to restart the kernel to use updated packages.\n"
     ]
    }
   ],
   "source": [
    "pip install scikit-learn"
   ]
  },
  {
   "cell_type": "code",
   "execution_count": 73,
   "id": "cc189f3e-54de-4866-b6a5-a109afed4426",
   "metadata": {},
   "outputs": [
    {
     "data": {
      "text/html": [
       "<div>\n",
       "<style scoped>\n",
       "    .dataframe tbody tr th:only-of-type {\n",
       "        vertical-align: middle;\n",
       "    }\n",
       "\n",
       "    .dataframe tbody tr th {\n",
       "        vertical-align: top;\n",
       "    }\n",
       "\n",
       "    .dataframe thead th {\n",
       "        text-align: right;\n",
       "    }\n",
       "</style>\n",
       "<table border=\"1\" class=\"dataframe\">\n",
       "  <thead>\n",
       "    <tr style=\"text-align: right;\">\n",
       "      <th></th>\n",
       "      <th>Energy Source</th>\n",
       "      <th>Energy Consumption (MWh)</th>\n",
       "      <th>Cost (millions $)</th>\n",
       "    </tr>\n",
       "  </thead>\n",
       "  <tbody>\n",
       "    <tr>\n",
       "      <th>0</th>\n",
       "      <td>Solar</td>\n",
       "      <td>0.000</td>\n",
       "      <td>0.2</td>\n",
       "    </tr>\n",
       "    <tr>\n",
       "      <th>1</th>\n",
       "      <td>Wind</td>\n",
       "      <td>0.625</td>\n",
       "      <td>1.0</td>\n",
       "    </tr>\n",
       "    <tr>\n",
       "      <th>2</th>\n",
       "      <td>Hydropower</td>\n",
       "      <td>0.850</td>\n",
       "      <td>0.4</td>\n",
       "    </tr>\n",
       "    <tr>\n",
       "      <th>3</th>\n",
       "      <td>Geothermal</td>\n",
       "      <td>0.625</td>\n",
       "      <td>0.0</td>\n",
       "    </tr>\n",
       "    <tr>\n",
       "      <th>4</th>\n",
       "      <td>Biomass</td>\n",
       "      <td>0.650</td>\n",
       "      <td>0.4</td>\n",
       "    </tr>\n",
       "    <tr>\n",
       "      <th>5</th>\n",
       "      <td>Nuclear</td>\n",
       "      <td>1.000</td>\n",
       "      <td>0.4</td>\n",
       "    </tr>\n",
       "  </tbody>\n",
       "</table>\n",
       "</div>"
      ],
      "text/plain": [
       "  Energy Source  Energy Consumption (MWh)  Cost (millions $)\n",
       "0         Solar                     0.000                0.2\n",
       "1          Wind                     0.625                1.0\n",
       "2    Hydropower                     0.850                0.4\n",
       "3    Geothermal                     0.625                0.0\n",
       "4       Biomass                     0.650                0.4\n",
       "5       Nuclear                     1.000                0.4"
      ]
     },
     "execution_count": 73,
     "metadata": {},
     "output_type": "execute_result"
    }
   ],
   "source": [
    "# Data Preprocessing - Normalization\n",
    "from sklearn.preprocessing import MinMaxScaler\n",
    "\n",
    "scaler = MinMaxScaler()\n",
    "df[['Energy Consumption (MWh)', 'Cost (millions $)']] = scaler.fit_transform(\n",
    "    df[['Energy Consumption (MWh)', 'Cost (millions $)']])\n",
    "\n",
    "df"
   ]
  },
  {
   "cell_type": "code",
   "execution_count": 74,
   "id": "1912b008-ef57-472c-80f8-25d4057e2826",
   "metadata": {},
   "outputs": [
    {
     "data": {
      "text/html": [
       "<div>\n",
       "<style scoped>\n",
       "    .dataframe tbody tr th:only-of-type {\n",
       "        vertical-align: middle;\n",
       "    }\n",
       "\n",
       "    .dataframe tbody tr th {\n",
       "        vertical-align: top;\n",
       "    }\n",
       "\n",
       "    .dataframe thead th {\n",
       "        text-align: right;\n",
       "    }\n",
       "</style>\n",
       "<table border=\"1\" class=\"dataframe\">\n",
       "  <thead>\n",
       "    <tr style=\"text-align: right;\">\n",
       "      <th></th>\n",
       "      <th>Energy Source</th>\n",
       "      <th>Energy Consumption (MWh)</th>\n",
       "      <th>Cost (millions $)</th>\n",
       "    </tr>\n",
       "  </thead>\n",
       "  <tbody>\n",
       "    <tr>\n",
       "      <th>0</th>\n",
       "      <td>Solar</td>\n",
       "      <td>-2.005893e+00</td>\n",
       "      <td>-6.546537e-01</td>\n",
       "    </tr>\n",
       "    <tr>\n",
       "      <th>1</th>\n",
       "      <td>Wind</td>\n",
       "      <td>3.563181e-16</td>\n",
       "      <td>1.963961e+00</td>\n",
       "    </tr>\n",
       "    <tr>\n",
       "      <th>2</th>\n",
       "      <td>Hydropower</td>\n",
       "      <td>7.221213e-01</td>\n",
       "      <td>1.817029e-16</td>\n",
       "    </tr>\n",
       "    <tr>\n",
       "      <th>3</th>\n",
       "      <td>Geothermal</td>\n",
       "      <td>3.563181e-16</td>\n",
       "      <td>-1.309307e+00</td>\n",
       "    </tr>\n",
       "    <tr>\n",
       "      <th>4</th>\n",
       "      <td>Biomass</td>\n",
       "      <td>8.023570e-02</td>\n",
       "      <td>1.817029e-16</td>\n",
       "    </tr>\n",
       "    <tr>\n",
       "      <th>5</th>\n",
       "      <td>Nuclear</td>\n",
       "      <td>1.203536e+00</td>\n",
       "      <td>1.817029e-16</td>\n",
       "    </tr>\n",
       "  </tbody>\n",
       "</table>\n",
       "</div>"
      ],
      "text/plain": [
       "  Energy Source  Energy Consumption (MWh)  Cost (millions $)\n",
       "0         Solar             -2.005893e+00      -6.546537e-01\n",
       "1          Wind              3.563181e-16       1.963961e+00\n",
       "2    Hydropower              7.221213e-01       1.817029e-16\n",
       "3    Geothermal              3.563181e-16      -1.309307e+00\n",
       "4       Biomass              8.023570e-02       1.817029e-16\n",
       "5       Nuclear              1.203536e+00       1.817029e-16"
      ]
     },
     "execution_count": 74,
     "metadata": {},
     "output_type": "execute_result"
    }
   ],
   "source": [
    "from sklearn.preprocessing import StandardScaler\n",
    "scaler = StandardScaler()\n",
    "df[['Energy Consumption (MWh)', 'Cost (millions $)']] = scaler.fit_transform(\n",
    "    df[['Energy Consumption (MWh)', 'Cost (millions $)']])\n",
    "df"
   ]
  },
  {
   "cell_type": "markdown",
   "id": "cdbfe870-4e08-47b1-8e78-053d5f3c1b86",
   "metadata": {},
   "source": [
    "## Encoding - one hot encoding"
   ]
  },
  {
   "cell_type": "code",
   "execution_count": 75,
   "id": "137d539a-885b-4f80-a56a-30b69ce6059a",
   "metadata": {},
   "outputs": [
    {
     "name": "stdout",
     "output_type": "stream",
     "text": [
      "   Energy Consumption (MWh)  Cost (millions $)  Energy Source_Biomass  \\\n",
      "0             -2.005893e+00      -6.546537e-01                  False   \n",
      "1              3.563181e-16       1.963961e+00                  False   \n",
      "2              7.221213e-01       1.817029e-16                  False   \n",
      "3              3.563181e-16      -1.309307e+00                  False   \n",
      "4              8.023570e-02       1.817029e-16                   True   \n",
      "5              1.203536e+00       1.817029e-16                  False   \n",
      "\n",
      "   Energy Source_Geothermal  Energy Source_Hydropower  Energy Source_Nuclear  \\\n",
      "0                     False                     False                  False   \n",
      "1                     False                     False                  False   \n",
      "2                     False                      True                  False   \n",
      "3                      True                     False                  False   \n",
      "4                     False                     False                  False   \n",
      "5                     False                     False                   True   \n",
      "\n",
      "   Energy Source_Solar  Energy Source_Wind  \n",
      "0                 True               False  \n",
      "1                False                True  \n",
      "2                False               False  \n",
      "3                False               False  \n",
      "4                False               False  \n",
      "5                False               False  \n"
     ]
    }
   ],
   "source": [
    "ohe_df = pd.get_dummies(df, columns=[\"Energy Source\"])\n",
    "print(ohe_df)"
   ]
  },
  {
   "cell_type": "code",
   "execution_count": 76,
   "id": "b2fbb18c-00a0-4af1-8417-155b5fcf1278",
   "metadata": {},
   "outputs": [
    {
     "data": {
      "text/html": [
       "<div>\n",
       "<style scoped>\n",
       "    .dataframe tbody tr th:only-of-type {\n",
       "        vertical-align: middle;\n",
       "    }\n",
       "\n",
       "    .dataframe tbody tr th {\n",
       "        vertical-align: top;\n",
       "    }\n",
       "\n",
       "    .dataframe thead th {\n",
       "        text-align: right;\n",
       "    }\n",
       "</style>\n",
       "<table border=\"1\" class=\"dataframe\">\n",
       "  <thead>\n",
       "    <tr style=\"text-align: right;\">\n",
       "      <th></th>\n",
       "      <th>Energy Consumption (MWh)</th>\n",
       "      <th>Cost (millions $)</th>\n",
       "      <th>Energy Source_Biomass</th>\n",
       "      <th>Energy Source_Geothermal</th>\n",
       "      <th>Energy Source_Hydropower</th>\n",
       "      <th>Energy Source_Nuclear</th>\n",
       "      <th>Energy Source_Solar</th>\n",
       "      <th>Energy Source_Wind</th>\n",
       "      <th>Consumption per Million $</th>\n",
       "    </tr>\n",
       "  </thead>\n",
       "  <tbody>\n",
       "    <tr>\n",
       "      <th>0</th>\n",
       "      <td>-2.005893e+00</td>\n",
       "      <td>-6.546537e-01</td>\n",
       "      <td>False</td>\n",
       "      <td>False</td>\n",
       "      <td>False</td>\n",
       "      <td>False</td>\n",
       "      <td>True</td>\n",
       "      <td>False</td>\n",
       "      <td>3.064052e+00</td>\n",
       "    </tr>\n",
       "    <tr>\n",
       "      <th>1</th>\n",
       "      <td>3.563181e-16</td>\n",
       "      <td>1.963961e+00</td>\n",
       "      <td>False</td>\n",
       "      <td>False</td>\n",
       "      <td>False</td>\n",
       "      <td>False</td>\n",
       "      <td>False</td>\n",
       "      <td>True</td>\n",
       "      <td>1.814283e-16</td>\n",
       "    </tr>\n",
       "    <tr>\n",
       "      <th>2</th>\n",
       "      <td>7.221213e-01</td>\n",
       "      <td>1.817029e-16</td>\n",
       "      <td>False</td>\n",
       "      <td>False</td>\n",
       "      <td>True</td>\n",
       "      <td>False</td>\n",
       "      <td>False</td>\n",
       "      <td>False</td>\n",
       "      <td>3.974187e+15</td>\n",
       "    </tr>\n",
       "    <tr>\n",
       "      <th>3</th>\n",
       "      <td>3.563181e-16</td>\n",
       "      <td>-1.309307e+00</td>\n",
       "      <td>False</td>\n",
       "      <td>True</td>\n",
       "      <td>False</td>\n",
       "      <td>False</td>\n",
       "      <td>False</td>\n",
       "      <td>False</td>\n",
       "      <td>-2.721424e-16</td>\n",
       "    </tr>\n",
       "    <tr>\n",
       "      <th>4</th>\n",
       "      <td>8.023570e-02</td>\n",
       "      <td>1.817029e-16</td>\n",
       "      <td>True</td>\n",
       "      <td>False</td>\n",
       "      <td>False</td>\n",
       "      <td>False</td>\n",
       "      <td>False</td>\n",
       "      <td>False</td>\n",
       "      <td>4.415764e+14</td>\n",
       "    </tr>\n",
       "    <tr>\n",
       "      <th>5</th>\n",
       "      <td>1.203536e+00</td>\n",
       "      <td>1.817029e-16</td>\n",
       "      <td>False</td>\n",
       "      <td>False</td>\n",
       "      <td>False</td>\n",
       "      <td>True</td>\n",
       "      <td>False</td>\n",
       "      <td>False</td>\n",
       "      <td>6.623646e+15</td>\n",
       "    </tr>\n",
       "  </tbody>\n",
       "</table>\n",
       "</div>"
      ],
      "text/plain": [
       "   Energy Consumption (MWh)  Cost (millions $)  Energy Source_Biomass  \\\n",
       "0             -2.005893e+00      -6.546537e-01                  False   \n",
       "1              3.563181e-16       1.963961e+00                  False   \n",
       "2              7.221213e-01       1.817029e-16                  False   \n",
       "3              3.563181e-16      -1.309307e+00                  False   \n",
       "4              8.023570e-02       1.817029e-16                   True   \n",
       "5              1.203536e+00       1.817029e-16                  False   \n",
       "\n",
       "   Energy Source_Geothermal  Energy Source_Hydropower  Energy Source_Nuclear  \\\n",
       "0                     False                     False                  False   \n",
       "1                     False                     False                  False   \n",
       "2                     False                      True                  False   \n",
       "3                      True                     False                  False   \n",
       "4                     False                     False                  False   \n",
       "5                     False                     False                   True   \n",
       "\n",
       "   Energy Source_Solar  Energy Source_Wind  Consumption per Million $  \n",
       "0                 True               False               3.064052e+00  \n",
       "1                False                True               1.814283e-16  \n",
       "2                False               False               3.974187e+15  \n",
       "3                False               False              -2.721424e-16  \n",
       "4                False               False               4.415764e+14  \n",
       "5                False               False               6.623646e+15  "
      ]
     },
     "execution_count": 76,
     "metadata": {},
     "output_type": "execute_result"
    }
   ],
   "source": [
    "# Feature engineering\n",
    "ohe_df[\"Consumption per Million $\"] = ohe_df['Energy Consumption (MWh)'] / ohe_df['Cost (millions $)']\n",
    "\n",
    "ohe_df"
   ]
  },
  {
   "cell_type": "code",
   "execution_count": null,
   "id": "aaf3359b-1280-443e-903a-98016a59d806",
   "metadata": {},
   "outputs": [],
   "source": []
  }
 ],
 "metadata": {
  "kernelspec": {
   "display_name": "Python 3 (ipykernel)",
   "language": "python",
   "name": "python3"
  },
  "language_info": {
   "codemirror_mode": {
    "name": "ipython",
    "version": 3
   },
   "file_extension": ".py",
   "mimetype": "text/x-python",
   "name": "python",
   "nbconvert_exporter": "python",
   "pygments_lexer": "ipython3",
   "version": "3.12.8"
  }
 },
 "nbformat": 4,
 "nbformat_minor": 5
}
