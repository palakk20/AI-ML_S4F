{
 "cells": [
  {
   "cell_type": "markdown",
   "id": "20109b82-6ecc-4311-8780-377b51d706cb",
   "metadata": {},
   "source": [
    "## Python basic"
   ]
  },
  {
   "cell_type": "code",
   "execution_count": 1,
   "id": "57440b7f-9716-49d5-948e-ade2881c8609",
   "metadata": {},
   "outputs": [],
   "source": [
    "# This is my first comment!"
   ]
  },
  {
   "cell_type": "code",
   "execution_count": 2,
   "id": "20776f87-405e-4c38-ae31-85124706b4ee",
   "metadata": {},
   "outputs": [
    {
     "name": "stdout",
     "output_type": "stream",
     "text": [
      "My name is Palak\n"
     ]
    }
   ],
   "source": [
    "print('My name is Palak')"
   ]
  },
  {
   "cell_type": "code",
   "execution_count": 3,
   "id": "c04617e8-879d-4e3c-90b3-64d2dbbe5aaa",
   "metadata": {},
   "outputs": [
    {
     "name": "stdout",
     "output_type": "stream",
     "text": [
      "Bengaluru\n"
     ]
    }
   ],
   "source": [
    "# Create a string variable\n",
    "city_name = \"Bengaluru\"\n",
    "\n",
    "#Print the variable\n",
    "print(city_name)"
   ]
  },
  {
   "cell_type": "code",
   "execution_count": 4,
   "id": "433b6561-9890-47c0-b886-2e0b6c847af5",
   "metadata": {},
   "outputs": [
    {
     "name": "stdout",
     "output_type": "stream",
     "text": [
      "City name is Bengaluru\n"
     ]
    }
   ],
   "source": [
    "print(f\"City name is {city_name}\")"
   ]
  },
  {
   "cell_type": "code",
   "execution_count": 5,
   "id": "c2394b7b-f524-4f65-a29c-9ae7075b867d",
   "metadata": {},
   "outputs": [
    {
     "name": "stdout",
     "output_type": "stream",
     "text": [
      "Temperature in Bengaluru right now is 25°C\n"
     ]
    }
   ],
   "source": [
    "temperature = 25\n",
    "print(f'Temperature in {city_name} right now is {temperature}°C')"
   ]
  },
  {
   "cell_type": "code",
   "execution_count": 6,
   "id": "d9e37497-4d90-489b-a4b2-158a70153970",
   "metadata": {},
   "outputs": [
    {
     "name": "stdout",
     "output_type": "stream",
     "text": [
      "Carbon Footprint: 500.75 kg CO2\n"
     ]
    }
   ],
   "source": [
    "carbon_footprint = 500.75 # kgCO2\n",
    "print(f'Carbon Footprint: {carbon_footprint} kg CO2')"
   ]
  },
  {
   "cell_type": "code",
   "execution_count": 7,
   "id": "1bc70db9-0c80-4adc-a13f-a3857010e039",
   "metadata": {},
   "outputs": [
    {
     "name": "stdout",
     "output_type": "stream",
     "text": [
      "Is the Bengaluru sustainable? False\n"
     ]
    }
   ],
   "source": [
    "# Create a boolean variable to indicate if the city is sustainable\n",
    "is_sustainable = carbon_footprint < 400\n",
    "\n",
    "print(f'Is the {city_name} sustainable? {is_sustainable}')"
   ]
  },
  {
   "cell_type": "code",
   "execution_count": 8,
   "id": "978211db-eb02-408d-9447-ce28a30291ce",
   "metadata": {},
   "outputs": [
    {
     "name": "stdout",
     "output_type": "stream",
     "text": [
      "Weekly Temperature: [25, 27, 28, 26, 24, 30, 29]\n"
     ]
    }
   ],
   "source": [
    "weekly_temp = [25, 27, 28, 26, 24, 30, 29]\n",
    "print(f'Weekly Temperature: {weekly_temp}')"
   ]
  },
  {
   "cell_type": "code",
   "execution_count": 9,
   "id": "5a8d376a-293b-4e34-aba6-4e7cca520dff",
   "metadata": {},
   "outputs": [
    {
     "name": "stdout",
     "output_type": "stream",
     "text": [
      "City data: {'name': 'Bengaluru', 'temperature': 27, 'carbon_footprint': 500.75, 'is_sustainable': False}\n"
     ]
    }
   ],
   "source": [
    "# Create a dictionary to store city data\n",
    "city_data = {\n",
    "    \"name\":\"Bengaluru\",\n",
    "    \"temperature\":27,\n",
    "    \"carbon_footprint\":500.75,\n",
    "    \"is_sustainable\":False\n",
    "}\n",
    "\n",
    "#print the dictionary\n",
    "print(f\"City data: {city_data}\")"
   ]
  },
  {
   "cell_type": "code",
   "execution_count": 10,
   "id": "0e1ba104-5748-4f78-a882-77f718d3c3b6",
   "metadata": {},
   "outputs": [
    {
     "name": "stdout",
     "output_type": "stream",
     "text": [
      "City is Mysuru, temperature is 30 and Carbon Footprint is 289\n"
     ]
    }
   ],
   "source": [
    "city_name, temperature, carbon_footprint = \"Mysuru\", 30, 289\n",
    "print(f\"City is {city_name}, temperature is {temperature} and Carbon Footprint is {carbon_footprint}\")"
   ]
  },
  {
   "cell_type": "markdown",
   "id": "cd5d516c-1aef-45ba-bbc2-06e0f1e3411b",
   "metadata": {},
   "source": [
    "## Control Structures"
   ]
  },
  {
   "cell_type": "code",
   "execution_count": 11,
   "id": "1a6316d0-fb4f-4386-b59d-d141490fbd39",
   "metadata": {},
   "outputs": [
    {
     "name": "stdout",
     "output_type": "stream",
     "text": [
      "Cities with high temperature (> 26 C:)\n",
      "City B - 30 C\n",
      "City C - 35 C\n"
     ]
    }
   ],
   "source": [
    "# Sample climate dataset\n",
    "climate_data = [\n",
    "    {\"city\":\"City A\", \"temperature\":25, \"carbon_footprint\":500},\n",
    "    {\"city\":\"City B\", \"temperature\":30, \"carbon_footprint\":450},\n",
    "    {\"city\":\"City C\", \"temperature\":35, \"carbon_footprint\":660},\n",
    "    {\"city\":\"City D\", \"temperature\":22, \"carbon_footprint\":200},\n",
    "    {\"city\":\"City E\", \"temperature\":15, \"carbon_footprint\":350}\n",
    "]\n",
    "# High temperature threshold\n",
    "high_temp_thresh = 26\n",
    "high_temp_cities = [city for city in climate_data if city[\"temperature\"] > high_temp_thresh]\n",
    "# print the result\n",
    "print('Cities with high temperature (> 26 C:)')\n",
    "for city in high_temp_cities:\n",
    "    print(f\"{city['city']} - {city['temperature']} C\")"
   ]
  },
  {
   "cell_type": "code",
   "execution_count": 12,
   "id": "56bc1f39-49e2-4f3f-9d07-06b61124398c",
   "metadata": {},
   "outputs": [
    {
     "data": {
      "text/plain": [
       "'Mysuru'"
      ]
     },
     "execution_count": 12,
     "metadata": {},
     "output_type": "execute_result"
    }
   ],
   "source": [
    "city_name"
   ]
  },
  {
   "cell_type": "markdown",
   "id": "c089666e-8b1a-4ecc-9642-8c7aec2bbd1d",
   "metadata": {},
   "source": [
    "## Loops to calculate average carbon footprint"
   ]
  },
  {
   "cell_type": "code",
   "execution_count": 13,
   "id": "24554354-d612-4901-bdc2-6763cc2de708",
   "metadata": {},
   "outputs": [
    {
     "name": "stdout",
     "output_type": "stream",
     "text": [
      "\n",
      " Average Carbon Footprint: 432.00 kg CO2\n"
     ]
    }
   ],
   "source": [
    "total_carbon = 0\n",
    "\n",
    "for city in climate_data:\n",
    "    total_carbon = total_carbon + city[\"carbon_footprint\"]\n",
    "\n",
    "avg_carbon_footprint = total_carbon / len(climate_data)\n",
    "print(f\"\\n Average Carbon Footprint: {avg_carbon_footprint:.2f} kg CO2\")"
   ]
  },
  {
   "cell_type": "markdown",
   "id": "a182ed1a-d8d1-447d-b01a-6a6143f7a39a",
   "metadata": {},
   "source": [
    "## Filter and Manipulate Data to find sustainable cities"
   ]
  },
  {
   "cell_type": "code",
   "execution_count": 14,
   "id": "b255bfdd-7924-4c9e-98ff-174cb58362b3",
   "metadata": {},
   "outputs": [
    {
     "name": "stdout",
     "output_type": "stream",
     "text": [
      "Sustainable cities (carbon footprint < 400 kg CO2):\n",
      "City D - 200 kg CO2\n",
      "City E - 350 kg CO2\n"
     ]
    }
   ],
   "source": [
    "# Setting the threshold for 400 kg co2\n",
    "sustainability_threshold = 400\n",
    "\n",
    "sustainable_cities = list(filter(lambda city: city['carbon_footprint'] < sustainability_threshold, climate_data))\n",
    "\n",
    "print(\"Sustainable cities (carbon footprint < 400 kg CO2):\")\n",
    "for city in sustainable_cities:\n",
    "    print(f\"{city['city']} - {city['carbon_footprint']} kg CO2\")"
   ]
  },
  {
   "cell_type": "markdown",
   "id": "b008d940-698f-4e4c-9d8b-ba36e869d1db",
   "metadata": {},
   "source": [
    "## Analyze data to find the city with the highest carbon footprint"
   ]
  },
  {
   "cell_type": "code",
   "execution_count": 15,
   "id": "10f8f2ec-1d18-4177-a48f-c6bf92c65072",
   "metadata": {},
   "outputs": [
    {
     "name": "stdout",
     "output_type": "stream",
     "text": [
      "City with the highest carbon footprint:\n",
      "City C - 660 kg CO2\n"
     ]
    }
   ],
   "source": [
    "highest_cf_city = max(climate_data, key=lambda city: city['carbon_footprint'])\n",
    "print('City with the highest carbon footprint:')\n",
    "print(f'{highest_cf_city['city']} - {highest_cf_city['carbon_footprint']} kg CO2')"
   ]
  },
  {
   "cell_type": "markdown",
   "id": "ace531e0-27d4-43ec-83b9-f24b9642467a",
   "metadata": {},
   "source": [
    "## Implementation of Functions"
   ]
  },
  {
   "cell_type": "code",
   "execution_count": 16,
   "id": "b5439016-9239-4ed9-ad96-4089f8bac83c",
   "metadata": {},
   "outputs": [],
   "source": [
    "def calculate_carbon_footprint(energy_consumption, emission_factor):\n",
    "    '''\n",
    "    this function calculates the carbon fp based on ec and ef\n",
    "    '''\n",
    "    return energy_consumption * emission_factor"
   ]
  },
  {
   "cell_type": "code",
   "execution_count": 17,
   "id": "f551038f-2c75-4d46-8745-d530a458f88d",
   "metadata": {},
   "outputs": [
    {
     "name": "stdout",
     "output_type": "stream",
     "text": [
      "Carbon Footprint: 475.0 kg CO2\n"
     ]
    }
   ],
   "source": [
    "energy_consumption = 1000\n",
    "emission_factor = 0.475\n",
    "\n",
    "carbon_footprint = calculate_carbon_footprint(energy_consumption, emission_factor)\n",
    "print(f\"Carbon Footprint: {carbon_footprint} kg CO2\")"
   ]
  },
  {
   "cell_type": "code",
   "execution_count": 18,
   "id": "26d001aa-4709-438f-b92e-3a4236ca0b15",
   "metadata": {},
   "outputs": [
    {
     "name": "stdout",
     "output_type": "stream",
     "text": [
      "Sustainable Cities:\n",
      "City B\n",
      "City D\n"
     ]
    }
   ],
   "source": [
    "# List of cities with their carbon footprints in tons CO2 per month\n",
    "cities = [\n",
    "    {\"name\": \"City A\", \"carbon_footprint\": 500},\n",
    "    {\"name\": \"City B\", \"carbon_footprint\": 350},\n",
    "    {\"name\": \"City C\", \"carbon_footprint\": 600},\n",
    "    {\"name\": \"City D\", \"carbon_footprint\": 200},\n",
    "]\n",
    "\n",
    "# Lambda function to filter cities below the threshold (400 ton CO2)\n",
    "sustainability_threshold = 400\n",
    "sustainable_cities = list(filter(lambda city: city[\"carbon_footprint\"] < sustainability_threshold, cities))\n",
    "\n",
    "# Printing the filtered list of sustainable cities\n",
    "print(\"Sustainable Cities:\")\n",
    "for city in sustainable_cities:\n",
    "    print(city[\"name\"])"
   ]
  },
  {
   "cell_type": "markdown",
   "id": "9f13139e-0839-49d4-92d9-4868052b2341",
   "metadata": {},
   "source": [
    "## Class definition (Energy System)"
   ]
  },
  {
   "cell_type": "code",
   "execution_count": 19,
   "id": "07bcfb70-170a-4f23-bb07-2a7c13eb2a01",
   "metadata": {},
   "outputs": [
    {
     "name": "stdout",
     "output_type": "stream",
     "text": [
      "Building A:5000 kWh, 0.45 kg CO2/kWh\n"
     ]
    }
   ],
   "source": [
    "# Define the energy class system\n",
    "class EnergySystem:\n",
    "    def __init__(self, building_name, energy_consumption, emissio_factor):\n",
    "        # Initialise the attributes\n",
    "        self.building_name = building_name\n",
    "        self.energy_consumption = energy_consumption   # in kWh\n",
    "        self.emissio_factor = emissio_factor  # kg CO2 per kWh\n",
    "building = EnergySystem(\"Building A\", 5000, 0.45)\n",
    "print(f\"{building.building_name}:{building.energy_consumption} kWh, {building.emissio_factor} kg CO2/kWh\")"
   ]
  },
  {
   "cell_type": "code",
   "execution_count": 20,
   "id": "76bc4bf4-0737-44a3-a04c-9f0b1115835b",
   "metadata": {},
   "outputs": [
    {
     "name": "stdout",
     "output_type": "stream",
     "text": [
      "Carbon footprint is 2250.0 kg CO2 and Energ Savings is 500.0 kWh\n"
     ]
    }
   ],
   "source": [
    "class EnergySystem:\n",
    "    def __init__(self, building_name, energy_consumption, emissio_factor):\n",
    "        # Initialise the attributes\n",
    "        self.building_name = building_name\n",
    "        self.energy_consumption = energy_consumption   # in kWh\n",
    "        self.emissio_factor = emissio_factor  # kg CO2 per kWh\n",
    "    def calculate_cf(self):\n",
    "        return self.energy_consumption * self.emissio_factor\n",
    "\n",
    "    def calculate_es(self):\n",
    "        return self.energy_consumption * 0.10  # 10% savings\n",
    "building = EnergySystem(\"Building A\", 5000, 0.45)\n",
    "carbon_fp = building.calculate_cf()\n",
    "energy_savings = building.calculate_es()\n",
    "print(f\"Carbon footprint is {carbon_fp} kg CO2 and Energ Savings is {energy_savings} kWh\")"
   ]
  },
  {
   "cell_type": "markdown",
   "id": "c850dc41-d704-4da5-a561-a3615b37794f",
   "metadata": {},
   "source": [
    "## Inheritance"
   ]
  },
  {
   "cell_type": "code",
   "execution_count": 21,
   "id": "2e18695c-e8e0-4435-a7ea-087d70cfd499",
   "metadata": {},
   "outputs": [
    {
     "name": "stdout",
     "output_type": "stream",
     "text": [
      "Net Energy Consumption: 3500 kWh\n"
     ]
    }
   ],
   "source": [
    "class SolarEnergySystem(EnergySystem):\n",
    "    def __init__(self, building_name, energy_consumption, emissio_factor, solar_production):\n",
    "        super().__init__(building_name, energy_consumption, emissio_factor)\n",
    "        self.solar_production = solar_production  #kWh\n",
    "\n",
    "    def net_energy_consumption(self):\n",
    "        return self.energy_consumption - self.solar_production\n",
    "\n",
    "solar_building = SolarEnergySystem(\"Solar Building\", 5000, 0.45, 1500)\n",
    "net_consumption = solar_building.net_energy_consumption()\n",
    "print(f\"Net Energy Consumption: {net_consumption} kWh\")"
   ]
  },
  {
   "cell_type": "markdown",
   "id": "d1375f17-8531-498e-9eff-9f1917b5d385",
   "metadata": {},
   "source": [
    "## Encapsulation (Protecting Attributes)"
   ]
  },
  {
   "cell_type": "code",
   "execution_count": 22,
   "id": "a838e7a0-8d24-40de-b661-e9644a9b8290",
   "metadata": {},
   "outputs": [
    {
     "name": "stdout",
     "output_type": "stream",
     "text": [
      "Energy Consumption (accessed via method): 5000 kWh\n"
     ]
    }
   ],
   "source": [
    "class EnergySystem:\n",
    "    def __init__(self, building_name, energy_consumption, emissio_factor):\n",
    "        # Initialise the attributes\n",
    "        self.building_name = building_name\n",
    "        self._energy_consumption = energy_consumption   # in kWh\n",
    "        self._emissio_factor = emissio_factor  # kg CO2 per kWh\n",
    "    # Method to access energy consumption safely\n",
    "    def get_energy_consumption(self):\n",
    "        return self._energy_consumption\n",
    "    # Method to calculate carbon footprint\n",
    "    def calculate_cf(self):\n",
    "        return self._energy_consumption * self._emissio_factor\n",
    "building = EnergySystem(\"Building A\", 5000, 0.45)\n",
    "print(f\"Energy Consumption (accessed via method): {building.get_energy_consumption()} kWh\")"
   ]
  },
  {
   "cell_type": "markdown",
   "id": "7142d793-0fa4-4bee-a6c6-4575808c8dd0",
   "metadata": {},
   "source": [
    "## Polymorphism"
   ]
  },
  {
   "cell_type": "code",
   "execution_count": 23,
   "id": "8a0a3ffe-74c9-46b3-87a2-8c2ea12c4f23",
   "metadata": {},
   "outputs": [
    {
     "name": "stdout",
     "output_type": "stream",
     "text": [
      "Adjusted Carbon Footprint (after solar production): 475.00 kg CO2\n"
     ]
    }
   ],
   "source": [
    "# Subclass SolarEnergySystem overiding the carbon footprint method\n",
    "class SolarEnergySystem(EnergySystem):\n",
    "    def __init__(self, building_name, energy_consumption, emissio_factor, solar_production):\n",
    "        super().__init__(building_name, energy_consumption, emissio_factor)\n",
    "        self.solar_production = solar_production  #kWh\n",
    "    # Overiding the carbon footprint method to account for solar production\n",
    "    def calculate_cf(self):\n",
    "        net_consumption = self._energy_consumption - self.solar_production\n",
    "        return net_consumption * self._emissio_factor\n",
    "solar_building = SolarEnergySystem(\"Solar Building\", 5000, 0.45, 1500)\n",
    "carbon_fp = solar_building.calculate_cf()\n",
    "print(f'Adjusted Carbon Footprint (after solar production): {carbon_footprint:.2f} kg CO2')"
   ]
  },
  {
   "cell_type": "code",
   "execution_count": null,
   "id": "15d98bd3-dc35-469e-ae10-57798bbeccaa",
   "metadata": {},
   "outputs": [],
   "source": []
  }
 ],
 "metadata": {
  "kernelspec": {
   "display_name": "Python 3 (ipykernel)",
   "language": "python",
   "name": "python3"
  },
  "language_info": {
   "codemirror_mode": {
    "name": "ipython",
    "version": 3
   },
   "file_extension": ".py",
   "mimetype": "text/x-python",
   "name": "python",
   "nbconvert_exporter": "python",
   "pygments_lexer": "ipython3",
   "version": "3.12.8"
  }
 },
 "nbformat": 4,
 "nbformat_minor": 5
}
